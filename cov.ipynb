{
 "cells": [
  {
   "cell_type": "code",
   "execution_count": 1,
   "metadata": {},
   "outputs": [],
   "source": [
    "import json\n",
    "import re\n",
    "import datetime\n",
    "import requests\n",
    "import os\n",
    "\n",
    "flux_project = 'Flux.WST.Inventory.API'\n",
    "f = open('WST.Inventory.API-swagger.json')\n",
    "data = json.load(f)"
   ]
  },
  {
   "cell_type": "code",
   "execution_count": 4,
   "metadata": {},
   "outputs": [
    {
     "name": "stdout",
     "output_type": "stream",
     "text": [
      "['        [Patch(\"/api/v1/facilities/{facilityCode}/product-type/{productType}/dereserve/{numberOfDays}\")]\\n', '        [Get(\"/api/v1/{facilityCode}/batches\")]\\n', '        [Get(\"/api/v1/{facilityCode}/batches/{batchId}/units\")]\\n', '        [Get(\"/api/v1/device/virtualidentifiers/facilities/{facility}\")]\\n', '        [Get(\"/api/v1/IssueLocations/facilities/{facility}\")]\\n', '        [Get(\"/api/v1/units/facilities/{facility}/units/{donationId}/productcodes/{productCode}/antibodies\")]\\n', '        [Get(\"/api/v1/units/facilities/{facility}/units/{donationId}/productcodes/{productCode}/antigens\")]\\n', '        [Get(\"/api/v1/units/facilities/{facility}/units/{donationId}/productcodes/{productCode}/attributes\")]\\n', '        [Get(\"/api/v1/units/facilities/{facility}/units/{donationId}/productcodes/{productCode}\")]\\n', '        [Put(\"/api/v1/device/virtualIdentifiers/facilities/{facility}/devices/{device}/identifiers/{identifier}\")]\\n']\n",
      "['DereservationAsync', 'GetBatchesAsync', 'GetBatchUnitsAsync', 'GetDeviceVirtualIdentifiersAsync', 'GetIssueLocationsAsync', 'GetUnitAntibodiesAsync', 'GetUnitAntigensAsync', 'GetUnitAttributesAsync', 'GetUnitAsync', 'PutDeviceVirtualIdentifiersAsync']\n"
     ]
    }
   ],
   "source": [
    "dirs = os.listdir(f'C:\\\\Users\\\\adangelo\\\\code\\\\{flux_project}\\\\{flux_project}\\\\Interfaces')\n",
    "interfaces = []\n",
    "test_files = os.listdir(f'C:\\\\Users\\\\adangelo\\\\code\\\\{flux_project}\\\\{flux_project}\\\\TestScripts')\n",
    "flux_api_methods = []\n",
    "\n",
    "for file in dirs:\n",
    "  text_file = open(f'C:\\\\Users\\\\adangelo\\\\code\\\\{flux_project}\\\\{flux_project}\\\\Interfaces\\\\' + file, 'r')\n",
    "  lines = text_file.readlines()\n",
    "\n",
    "  for i, line in enumerate(lines):\n",
    "    if re.search('\\[Post|\\[Get|\\[Put|\\[Patch|\\[Delete', line):\n",
    "      interfaces.append(line)\n",
    "      method = re.search('\\w*\\(', lines[i+1]).group(0)[:-1]\n",
    "      flux_api_methods.append(method)\n",
    "\n",
    "print(interfaces)\n",
    "print(flux_api_methods)"
   ]
  },
  {
   "cell_type": "code",
   "execution_count": 5,
   "metadata": {},
   "outputs": [
    {
     "data": {
      "text/plain": [
       "['C:\\\\Users\\\\adangelo\\\\code\\\\Flux.WST.Inventory.API\\\\Flux.WST.Inventory.API\\\\TestScripts\\\\Dereservation\\\\DereservationTests.cs',\n",
       " 'C:\\\\Users\\\\adangelo\\\\code\\\\Flux.WST.Inventory.API\\\\Flux.WST.Inventory.API\\\\TestScripts\\\\Device\\\\DeviceVirtualIdentifierTests.cs',\n",
       " 'C:\\\\Users\\\\adangelo\\\\code\\\\Flux.WST.Inventory.API\\\\Flux.WST.Inventory.API\\\\TestScripts\\\\Electronic\\\\GetElectronicBatchesTests.cs',\n",
       " 'C:\\\\Users\\\\adangelo\\\\code\\\\Flux.WST.Inventory.API\\\\Flux.WST.Inventory.API\\\\TestScripts\\\\Electronic\\\\GetElectronicBatchUnitsTests.cs',\n",
       " 'C:\\\\Users\\\\adangelo\\\\code\\\\Flux.WST.Inventory.API\\\\Flux.WST.Inventory.API\\\\TestScripts\\\\IssueLocations\\\\IssueLocationsTests.cs',\n",
       " 'C:\\\\Users\\\\adangelo\\\\code\\\\Flux.WST.Inventory.API\\\\Flux.WST.Inventory.API\\\\TestScripts\\\\Unit\\\\GetUnitAntibodiesTests.cs',\n",
       " 'C:\\\\Users\\\\adangelo\\\\code\\\\Flux.WST.Inventory.API\\\\Flux.WST.Inventory.API\\\\TestScripts\\\\Unit\\\\GetUnitAntigensTests.cs',\n",
       " 'C:\\\\Users\\\\adangelo\\\\code\\\\Flux.WST.Inventory.API\\\\Flux.WST.Inventory.API\\\\TestScripts\\\\Unit\\\\GetUnitAttributesTests.cs',\n",
       " 'C:\\\\Users\\\\adangelo\\\\code\\\\Flux.WST.Inventory.API\\\\Flux.WST.Inventory.API\\\\TestScripts\\\\Unit\\\\GetUnitTests.cs']"
      ]
     },
     "execution_count": 5,
     "metadata": {},
     "output_type": "execute_result"
    }
   ],
   "source": [
    "def get_test_file_paths_on_flux_project():\n",
    "    test_file_paths = []\n",
    "    test_files_root = f'C:\\\\Users\\\\adangelo\\\\code\\\\{flux_project}\\\\{flux_project}\\\\TestScripts'\n",
    "    for root, test_subdirs, files in os.walk(test_files_root):\n",
    "        for file in files:\n",
    "            test_file_paths.append(os.path.join(root, file))\n",
    "    return test_file_paths\n",
    "\n",
    "test_file_paths = get_test_file_paths_on_flux_project()\n",
    "test_file_paths"
   ]
  },
  {
   "cell_type": "code",
   "execution_count": 6,
   "metadata": {},
   "outputs": [
    {
     "data": {
      "text/plain": [
       "{'DereservationAsync': 4,\n",
       " 'GetBatchesAsync': 3,\n",
       " 'GetBatchUnitsAsync': 4,\n",
       " 'GetDeviceVirtualIdentifiersAsync': 4,\n",
       " 'GetIssueLocationsAsync': 3,\n",
       " 'GetUnitAntibodiesAsync': 3,\n",
       " 'GetUnitAntigensAsync': 3,\n",
       " 'GetUnitAttributesAsync': 3,\n",
       " 'GetUnitAsync': 6,\n",
       " 'PutDeviceVirtualIdentifiersAsync': 3}"
      ]
     },
     "execution_count": 6,
     "metadata": {},
     "output_type": "execute_result"
    }
   ],
   "source": [
    "\n",
    "def count_method_calls(method, test_file_paths):\n",
    "  count = 0\n",
    "  for file in test_file_paths:\n",
    "    with open(file) as f:\n",
    "      lines = f.readlines()\n",
    "      for line in lines:\n",
    "        if f'{method}' in line:\n",
    "          count += 1\n",
    "  return count\n",
    "\n",
    "method_counts = {}\n",
    "for method in flux_api_methods:\n",
    "  method_counts[method] = count_method_calls(method, test_file_paths)\n",
    "method_counts"
   ]
  },
  {
   "cell_type": "code",
   "execution_count": 7,
   "metadata": {},
   "outputs": [
    {
     "name": "stdout",
     "output_type": "stream",
     "text": [
      "['/api/v1/facilities/{facilitycode}/product-type/{producttype}/dereserve/{numberofdays}', '/api/v1/{facilitycode}/batches', '/api/v1/{facilitycode}/batches/{batchid}/units', '/api/v1/device/virtualidentifiers/facilities/{facility}', '/api/v1/issuelocations/facilities/{facility}', '/api/v1/units/facilities/{facility}/units/{donationid}/productcodes/{productcode}/antibodies', '/api/v1/units/facilities/{facility}/units/{donationid}/productcodes/{productcode}/antigens', '/api/v1/units/facilities/{facility}/units/{donationid}/productcodes/{productcode}/attributes', '/api/v1/units/facilities/{facility}/units/{donationid}/productcodes/{productcode}', '/api/v1/device/virtualidentifiers/facilities/{facility}/devices/{device}/identifiers/{identifier}']\n",
      "['patch', 'get', 'get', 'get', 'get', 'get', 'get', 'get', 'get', 'put']\n"
     ]
    },
    {
     "data": {
      "text/plain": [
       "{'/api/v1/facilities/{facilitycode}/product-type/{producttype}/dereserve/{numberofdays}': {'operation': 'patch',\n",
       "  'method': 'DereservationAsync',\n",
       "  'count': 4},\n",
       " '/api/v1/{facilitycode}/batches': {'operation': 'get',\n",
       "  'method': 'GetBatchesAsync',\n",
       "  'count': 3},\n",
       " '/api/v1/{facilitycode}/batches/{batchid}/units': {'operation': 'get',\n",
       "  'method': 'GetBatchUnitsAsync',\n",
       "  'count': 4},\n",
       " '/api/v1/device/virtualidentifiers/facilities/{facility}': {'operation': 'get',\n",
       "  'method': 'GetDeviceVirtualIdentifiersAsync',\n",
       "  'count': 4},\n",
       " '/api/v1/issuelocations/facilities/{facility}': {'operation': 'get',\n",
       "  'method': 'GetIssueLocationsAsync',\n",
       "  'count': 3},\n",
       " '/api/v1/units/facilities/{facility}/units/{donationid}/productcodes/{productcode}/antibodies': {'operation': 'get',\n",
       "  'method': 'GetUnitAntibodiesAsync',\n",
       "  'count': 3},\n",
       " '/api/v1/units/facilities/{facility}/units/{donationid}/productcodes/{productcode}/antigens': {'operation': 'get',\n",
       "  'method': 'GetUnitAntigensAsync',\n",
       "  'count': 3},\n",
       " '/api/v1/units/facilities/{facility}/units/{donationid}/productcodes/{productcode}/attributes': {'operation': 'get',\n",
       "  'method': 'GetUnitAttributesAsync',\n",
       "  'count': 3},\n",
       " '/api/v1/units/facilities/{facility}/units/{donationid}/productcodes/{productcode}': {'operation': 'get',\n",
       "  'method': 'GetUnitAsync',\n",
       "  'count': 6},\n",
       " '/api/v1/device/virtualidentifiers/facilities/{facility}/devices/{device}/identifiers/{identifier}': {'operation': 'put',\n",
       "  'method': 'PutDeviceVirtualIdentifiersAsync',\n",
       "  'count': 3}}"
      ]
     },
     "execution_count": 7,
     "metadata": {},
     "output_type": "execute_result"
    }
   ],
   "source": [
    "def get_endpoints_calls_from_flux_project(interfaces):\n",
    "  flux_operations = []\n",
    "  flux_paths = []\n",
    "\n",
    "  for interface in interfaces:\n",
    "    flux_operations.append(re.search('\\[Get|\\[Post|\\[Patch|\\[Put', interface).group(0)[1:].lower())\n",
    "    flux_paths.append(re.search('(?<=\\\").*(?=\\\")', interface).group(0).lower())\n",
    "\n",
    "  return flux_paths, flux_operations\n",
    "\n",
    "endpoints_on_flux_project, endpoint_operations_on_flux_project = get_endpoints_calls_from_flux_project(interfaces)\n",
    "print(endpoints_on_flux_project)\n",
    "print(endpoint_operations_on_flux_project)\n",
    "flux_api_calls = {}\n",
    "\n",
    "for i, endpoint in enumerate(endpoints_on_flux_project):\n",
    "  flux_api_calls[endpoint] = { \n",
    "    'operation': endpoint_operations_on_flux_project[i],\n",
    "    'method': flux_api_methods[i],\n",
    "    'count': method_counts[flux_api_methods[i]],\n",
    "  }\n",
    "\n",
    "flux_api_calls"
   ]
  },
  {
   "cell_type": "code",
   "execution_count": 56,
   "metadata": {},
   "outputs": [
    {
     "name": "stdout",
     "output_type": "stream",
     "text": [
      "['/api/v1/bloodtrack/stockmovement/sites/{facilitycode}', '/api/v1/comment/gethardcodedcomments', '/api/v1/sites/{sitecode}/configuration/emergencyissuecompatibilitymatricies', '/api/v1/sites/{sitecode}/configuration/saveemergencyissuecompatibilitymatricies', '/api/v1/facilities/{facilitycode}/product-type/{producttype}/dereserve/{numberofdays}', '/api/v1/derivatives/facilities/{facility}/lots/{lot}/sublots/{sublot}/derivativecodes/{derivativecode}', '/api/v1/derivatives/savederivative', '/api/v1/derivatives/issueforstockmovement', '/api/v1/derivatives/updatelocationforstockmovement', '/api/v1/derivatives/issueforstocktransfer/facilities/{facility}/lots/{lot}/sublots/{sublot}/derivatives/{derivativecode}', '/api/v1/derivatives/bloodtrack/stockmovement', '/api/v1/derivatives/bloodtrack/stocktransfer', '/api/v1/derivatives/issueforreturntostock', '/api/v1/derivatives/issueforfateofunit', '/api/v1/devices/derivatives/facilities/{facilitycode}/lots/{lot}/sublots/{sublot}/removefromstorage', '/api/v1/devices/derivatives/assignidentifiertostorage', '/api/v1/derivatives/devices/devicesearch/facilities/{facility}/derivativedevices/{device}', '/api/v1/derivatives/devices/validatedevicemaster/derivativedevices/{device}', '/api/v1/moveauxiliarystock', '/api/v1/device/virtualidentifiers/facilities/{facility}/devices/{device}/identifiers/{identifier}', '/api/v1/device/virtualidentifiers/facilities/{facility}', '/api/v1/{facilitycode}/batches', '/api/v1/{facilitycode}/batches/{batchid}/units', '/api/v1/unit-events/save', '/api/v1/unit-exceptions/save', '/api/v1/issuelocations/facilities/{facility}', '/api/v1/product/facilities/{facilitycode}/emergencyissueunits/{issuerequestguid}', '/api/v1/product/facilities/{facilitycode}/preparetransfusionslipdata/{issuerequestguid}', '/api/v1/product/facilities/{facilitycode}/productcodes', '/api/v1/product/facilities/{facilitycode}/producttypes', '/api/v1/product/facilities/{facilitycode}/issuerequest/{issuerequestguid}', '/api/v1/product/facilities/{facilitycode}/unit/{internalunitnumber}/kitguid/{kitguid}/validateunitscan', '/api/v1/product/facilities/{facilitycode}/addissueunittorequest', '/api/v1/product/facilities/{facilitycode}/addkittorequest/guid/{kitguid}', '/api/v1/product/facilities/{facilitycode}/removeunitfromrequest/request/{issuerequestguid}/unit/{issueunitguid}', '/api/v1/product/facilities/{facilitycode}/queueunitforquarantine/request/{issuerequestguid}/unit/{issueunitguid}', '/api/v1/product/facilities/{facilitycode}/unqueueunitforquarantine/request/{issuerequestguid}/unit/{issueunitguid}', '/api/v1/product/facilities/{facilitycode}/respondtosafetychecks/request/{issuerequestguid}/unit/{issueunitguid}', '/api/v1/product/facilities/{facilitycode}/areallsafetychecksrespondedto/{issuerequestguid}', '/api/v1/product/facilities/{facilitycode}/confirmorunconfirmunits/request/{issuerequestguid}', '/', '/servicediagnostics', '/api/v1/units/saveantibodiesforunit', '/api/v1/units/saveantigensforunit', '/api/v1/units/facilities/{facility}/units/{donationid}/productcodes/{productcode}/donationtypes/{donationtype}/divisions/{division}/unithistory', '/api/v1/units/facilities/{facility}/units/{donationid}/productcodes/{productcode}/unithistory', '/api/v1/units/facilities/{facility}/units/{donationid}/unithistory', '/api/v1/units/facilities/{facility}/units/{donationid}/productcodes/{productcode}/donationtypes/{donationtype}/divisions/{division}/attributes', '/api/v1/units/facilities/{facility}/units/{donationid}/productcodes/{productcode}/attributes', '/api/v1/units/facilities/{facility}/units/{donationid}/attributes', '/api/v1/units/facilities/{facility}/units/{donationid}/productcodes/{productcode}/donationtypes/{donationtype}/divisions/{division}/antibodies', '/api/v1/units/facilities/{facility}/units/{donationid}/productcodes/{productcode}/antibodies', '/api/v1/units/facilities/{facility}/units/{donationid}/antibodies', '/api/v1/units/facilities/{facility}/units/{donationid}/productcodes/{productcode}/donationtypes/{donationtype}/divisions/{division}/antigens', '/api/v1/units/facilities/{facility}/units/{donationid}/productcodes/{productcode}/antigens', '/api/v1/units/facilities/{facility}/units/{donationid}/antigens', '/api/v1/units/facilities/{facility}/units/{donationid}/productcodes/{productcode}/donationtypes/{donationtype}/divisions/{division}', '/api/v1/units/facilities/{facility}/units/{donationid}/productcodes/{productcode}', '/api/v1/units/facilities/{facility}/units/{donationid}', '/api/v1/units/facilities/{facilitycode}/kitguids/kitnumber/{kitnumber}', '/api/v1/units/facilities/{facilitycode}/kit/guid/{kitguid}', '/api/v1/units/facilities/{facilitycode}/kitwithunitchanges/guid/{kitguid}', '/api/v1/units/searchforkits', '/api/v1/units/facilities/{facilitycode}/allstatuscodes', '/api/v1/units/issueforstockmovement', '/api/v1/units/facilities/{facilitycode}/savekit', '/api/v1/units/facilities/{facilitycode}/inactivate/{kitguid}', '/api/v1/units/issueforstockmovementfortransfusion', '/api/v1/units/issueforstockmovementforadministrativereason']\n",
      "['post', 'get', 'get', 'post', 'patch', 'get', 'put', 'post', 'post', 'put', 'post', 'post', 'post', 'post', 'post', 'post', 'get', 'get', 'post', 'put', 'get', 'get', 'get', 'post', 'post', 'get', 'post', 'post', 'get', 'get', 'get', 'get', 'post', 'post', 'delete', 'delete', 'put', 'post', 'get', 'post', 'get', 'get', 'post', 'post', 'get', 'get', 'get', 'get', 'get', 'get', 'get', 'get', 'get', 'get', 'get', 'get', 'get', 'get', 'get', 'get', 'get', 'get', 'get', 'get', 'post', 'post', 'delete', 'post', 'post']\n"
     ]
    }
   ],
   "source": [
    "def get_api_endpoints_and_operations_from_swagger_data(swagger_data):\n",
    "  api_endpoints = []\n",
    "  api_operations = []\n",
    "\n",
    "  for path in data['paths']:\n",
    "    api_endpoints.append(path.lower())\n",
    "    api_operations.append(list(data['paths'][path].keys())[0])\n",
    "\n",
    "  return api_endpoints, api_operations\n",
    "\n",
    "api_endpoints, api_operations = get_api_endpoints_and_operations_from_swagger_data(data)\n",
    "print(api_endpoints)\n",
    "print(api_operations)"
   ]
  },
  {
   "cell_type": "code",
   "execution_count": 79,
   "metadata": {},
   "outputs": [
    {
     "name": "stdout",
     "output_type": "stream",
     "text": [
      "---------------------------------- Flux.WST.Inventory.API ----------------------------------\n",
      "Endpoints Coverage Percentage: 14.5%\n",
      "\n",
      "Endpoints Covered At 05/19/23:\n",
      "  patch /api/v1/facilities/{facilitycode}/product-type/{producttype}/dereserve/{numberofdays} \n",
      "    (exercised by 4 tests)\n",
      "  get /api/v1/{facilitycode}/batches \n",
      "    (exercised by 3 tests)\n",
      "  get /api/v1/{facilitycode}/batches/{batchid}/units \n",
      "    (exercised by 4 tests)\n",
      "  get /api/v1/device/virtualidentifiers/facilities/{facility} \n",
      "    (exercised by 4 tests)\n",
      "  get /api/v1/issuelocations/facilities/{facility} \n",
      "    (exercised by 3 tests)\n",
      "  get /api/v1/units/facilities/{facility}/units/{donationid}/productcodes/{productcode}/antibodies \n",
      "    (exercised by 3 tests)\n",
      "  get /api/v1/units/facilities/{facility}/units/{donationid}/productcodes/{productcode}/antigens \n",
      "    (exercised by 3 tests)\n",
      "  get /api/v1/units/facilities/{facility}/units/{donationid}/productcodes/{productcode}/attributes \n",
      "    (exercised by 3 tests)\n",
      "  get /api/v1/units/facilities/{facility}/units/{donationid}/productcodes/{productcode} \n",
      "    (exercised by 6 tests)\n",
      "  put /api/v1/device/virtualidentifiers/facilities/{facility}/devices/{device}/identifiers/{identifier} \n",
      "    (exercised by 3 tests)\n"
     ]
    }
   ],
   "source": [
    "exercised_endpoints = 0\n",
    "total_of_api_endpoints = len(api_endpoints)\n",
    "\n",
    "for endpoint in flux_api_calls:\n",
    "  if flux_api_calls[endpoint][\"count\"] > 0:\n",
    "    exercised_endpoints += 1\n",
    "\n",
    "print(f'---------------------------------- {flux_project} ----------------------------------')\n",
    "print(f'Endpoints Coverage Percentage: {round((exercised_endpoints / total_of_api_endpoints * 100), 1)}%')\n",
    "print('')\n",
    "print(f'Endpoints Covered At {datetime.datetime.now().strftime(\"%x\")}:')\n",
    "for endpoint in flux_api_calls:\n",
    "  print(f'  {flux_api_calls[endpoint][\"operation\"]} {endpoint} ')\n",
    "  print(f'    (exercised by {flux_api_calls[endpoint][\"count\"]} tests)')"
   ]
  },
  {
   "cell_type": "code",
   "execution_count": 2,
   "metadata": {},
   "outputs": [
    {
     "name": "stdout",
     "output_type": "stream",
     "text": [
      "https://bmtfnq22app01.wellsky.com/wst.scheduler/docs/swagger.json\n",
      "https://bmtfnq22app01.wellsky.com/wst.antibodytesting/docs/swagger.json\n",
      "https://bmtfnq22app01.wellsky.com/wst.patient/docs/swagger.json\n",
      "https://bmtfnq22app01.wellsky.com/wst.antigentesting/docs/swagger.json\n",
      "https://bmtfnq22app01.wellsky.com/wst.inventory/docs/swagger.json\n",
      "https://bmtfnq22app01.wellsky.com/wst.bloodtrack/docs/swagger.json\n",
      "https://bmtfnq22app01.wellsky.com/wst.orders/docs/swagger.json\n",
      "https://bmtfnq22app01.wellsky.com/wst.administration/docs/swagger.json\n",
      "https://bmtfnq22app01.wellsky.com/wst.interface/docs/swagger.json\n",
      "https://bmtfnq22app01.wellsky.com/wst.home/docs/swagger.json\n",
      "https://bmtfnq22app01.wellsky.com/wst.tenantprofile/docs/swagger.json\n",
      "https://bmtfnq22app01.wellsky.com/wst.auditing/docs/swagger.json\n",
      "https://bmtfnq22app01.wellsky.com/ws.barcode/docs/swagger.json\n",
      "https://bmtfnq22app01.wellsky.com/wst.processmigration/docs/swagger.json\n"
     ]
    }
   ],
   "source": [
    "f = open(f'api-urls.json')\n",
    "apiurls = json.load(f)\n",
    "\n",
    "for apiurl in apiurls:\n",
    "  url = apiurl['apiSpecificationUrl']\n",
    "  print(url)"
   ]
  },
  {
   "cell_type": "code",
   "execution_count": 4,
   "metadata": {},
   "outputs": [
    {
     "ename": "MissingSchema",
     "evalue": "Invalid URL 'bmtfnq22app01.wellsky.com/wst.home/docs/swagger.json': No scheme supplied. Perhaps you meant https://bmtfnq22app01.wellsky.com/wst.home/docs/swagger.json?",
     "output_type": "error",
     "traceback": [
      "\u001b[1;31m---------------------------------------------------------------------------\u001b[0m",
      "\u001b[1;31mMissingSchema\u001b[0m                             Traceback (most recent call last)",
      "Cell \u001b[1;32mIn[4], line 1\u001b[0m\n\u001b[1;32m----> 1\u001b[0m resp \u001b[39m=\u001b[39m requests\u001b[39m.\u001b[39;49mget(\u001b[39m\"\u001b[39;49m\u001b[39mbmtfnq22app01.wellsky.com/wst.home/docs/swagger.json\u001b[39;49m\u001b[39m\"\u001b[39;49m)\n\u001b[0;32m      2\u001b[0m data \u001b[39m=\u001b[39m resp\u001b[39m.\u001b[39mjson() \u001b[39m# Check the JSON Response Content documentation below\u001b[39;00m\n\u001b[0;32m      3\u001b[0m data\u001b[39m.\u001b[39msave(\u001b[39m'\u001b[39m\u001b[39m./temp/swagger.json\u001b[39m\u001b[39m'\u001b[39m)\n",
      "File \u001b[1;32mc:\\Users\\adangelo\\AppData\\Local\\Programs\\Python\\Python311\\Lib\\site-packages\\requests\\api.py:73\u001b[0m, in \u001b[0;36mget\u001b[1;34m(url, params, **kwargs)\u001b[0m\n\u001b[0;32m     62\u001b[0m \u001b[39mdef\u001b[39;00m \u001b[39mget\u001b[39m(url, params\u001b[39m=\u001b[39m\u001b[39mNone\u001b[39;00m, \u001b[39m*\u001b[39m\u001b[39m*\u001b[39mkwargs):\n\u001b[0;32m     63\u001b[0m \u001b[39m    \u001b[39m\u001b[39mr\u001b[39m\u001b[39m\"\"\"Sends a GET request.\u001b[39;00m\n\u001b[0;32m     64\u001b[0m \n\u001b[0;32m     65\u001b[0m \u001b[39m    :param url: URL for the new :class:`Request` object.\u001b[39;00m\n\u001b[1;32m   (...)\u001b[0m\n\u001b[0;32m     70\u001b[0m \u001b[39m    :rtype: requests.Response\u001b[39;00m\n\u001b[0;32m     71\u001b[0m \u001b[39m    \"\"\"\u001b[39;00m\n\u001b[1;32m---> 73\u001b[0m     \u001b[39mreturn\u001b[39;00m request(\u001b[39m\"\u001b[39;49m\u001b[39mget\u001b[39;49m\u001b[39m\"\u001b[39;49m, url, params\u001b[39m=\u001b[39;49mparams, \u001b[39m*\u001b[39;49m\u001b[39m*\u001b[39;49mkwargs)\n",
      "File \u001b[1;32mc:\\Users\\adangelo\\AppData\\Local\\Programs\\Python\\Python311\\Lib\\site-packages\\requests\\api.py:59\u001b[0m, in \u001b[0;36mrequest\u001b[1;34m(method, url, **kwargs)\u001b[0m\n\u001b[0;32m     55\u001b[0m \u001b[39m# By using the 'with' statement we are sure the session is closed, thus we\u001b[39;00m\n\u001b[0;32m     56\u001b[0m \u001b[39m# avoid leaving sockets open which can trigger a ResourceWarning in some\u001b[39;00m\n\u001b[0;32m     57\u001b[0m \u001b[39m# cases, and look like a memory leak in others.\u001b[39;00m\n\u001b[0;32m     58\u001b[0m \u001b[39mwith\u001b[39;00m sessions\u001b[39m.\u001b[39mSession() \u001b[39mas\u001b[39;00m session:\n\u001b[1;32m---> 59\u001b[0m     \u001b[39mreturn\u001b[39;00m session\u001b[39m.\u001b[39;49mrequest(method\u001b[39m=\u001b[39;49mmethod, url\u001b[39m=\u001b[39;49murl, \u001b[39m*\u001b[39;49m\u001b[39m*\u001b[39;49mkwargs)\n",
      "File \u001b[1;32mc:\\Users\\adangelo\\AppData\\Local\\Programs\\Python\\Python311\\Lib\\site-packages\\requests\\sessions.py:575\u001b[0m, in \u001b[0;36mSession.request\u001b[1;34m(self, method, url, params, data, headers, cookies, files, auth, timeout, allow_redirects, proxies, hooks, stream, verify, cert, json)\u001b[0m\n\u001b[0;32m    562\u001b[0m \u001b[39m# Create the Request.\u001b[39;00m\n\u001b[0;32m    563\u001b[0m req \u001b[39m=\u001b[39m Request(\n\u001b[0;32m    564\u001b[0m     method\u001b[39m=\u001b[39mmethod\u001b[39m.\u001b[39mupper(),\n\u001b[0;32m    565\u001b[0m     url\u001b[39m=\u001b[39murl,\n\u001b[1;32m   (...)\u001b[0m\n\u001b[0;32m    573\u001b[0m     hooks\u001b[39m=\u001b[39mhooks,\n\u001b[0;32m    574\u001b[0m )\n\u001b[1;32m--> 575\u001b[0m prep \u001b[39m=\u001b[39m \u001b[39mself\u001b[39;49m\u001b[39m.\u001b[39;49mprepare_request(req)\n\u001b[0;32m    577\u001b[0m proxies \u001b[39m=\u001b[39m proxies \u001b[39mor\u001b[39;00m {}\n\u001b[0;32m    579\u001b[0m settings \u001b[39m=\u001b[39m \u001b[39mself\u001b[39m\u001b[39m.\u001b[39mmerge_environment_settings(\n\u001b[0;32m    580\u001b[0m     prep\u001b[39m.\u001b[39murl, proxies, stream, verify, cert\n\u001b[0;32m    581\u001b[0m )\n",
      "File \u001b[1;32mc:\\Users\\adangelo\\AppData\\Local\\Programs\\Python\\Python311\\Lib\\site-packages\\requests\\sessions.py:486\u001b[0m, in \u001b[0;36mSession.prepare_request\u001b[1;34m(self, request)\u001b[0m\n\u001b[0;32m    483\u001b[0m     auth \u001b[39m=\u001b[39m get_netrc_auth(request\u001b[39m.\u001b[39murl)\n\u001b[0;32m    485\u001b[0m p \u001b[39m=\u001b[39m PreparedRequest()\n\u001b[1;32m--> 486\u001b[0m p\u001b[39m.\u001b[39;49mprepare(\n\u001b[0;32m    487\u001b[0m     method\u001b[39m=\u001b[39;49mrequest\u001b[39m.\u001b[39;49mmethod\u001b[39m.\u001b[39;49mupper(),\n\u001b[0;32m    488\u001b[0m     url\u001b[39m=\u001b[39;49mrequest\u001b[39m.\u001b[39;49murl,\n\u001b[0;32m    489\u001b[0m     files\u001b[39m=\u001b[39;49mrequest\u001b[39m.\u001b[39;49mfiles,\n\u001b[0;32m    490\u001b[0m     data\u001b[39m=\u001b[39;49mrequest\u001b[39m.\u001b[39;49mdata,\n\u001b[0;32m    491\u001b[0m     json\u001b[39m=\u001b[39;49mrequest\u001b[39m.\u001b[39;49mjson,\n\u001b[0;32m    492\u001b[0m     headers\u001b[39m=\u001b[39;49mmerge_setting(\n\u001b[0;32m    493\u001b[0m         request\u001b[39m.\u001b[39;49mheaders, \u001b[39mself\u001b[39;49m\u001b[39m.\u001b[39;49mheaders, dict_class\u001b[39m=\u001b[39;49mCaseInsensitiveDict\n\u001b[0;32m    494\u001b[0m     ),\n\u001b[0;32m    495\u001b[0m     params\u001b[39m=\u001b[39;49mmerge_setting(request\u001b[39m.\u001b[39;49mparams, \u001b[39mself\u001b[39;49m\u001b[39m.\u001b[39;49mparams),\n\u001b[0;32m    496\u001b[0m     auth\u001b[39m=\u001b[39;49mmerge_setting(auth, \u001b[39mself\u001b[39;49m\u001b[39m.\u001b[39;49mauth),\n\u001b[0;32m    497\u001b[0m     cookies\u001b[39m=\u001b[39;49mmerged_cookies,\n\u001b[0;32m    498\u001b[0m     hooks\u001b[39m=\u001b[39;49mmerge_hooks(request\u001b[39m.\u001b[39;49mhooks, \u001b[39mself\u001b[39;49m\u001b[39m.\u001b[39;49mhooks),\n\u001b[0;32m    499\u001b[0m )\n\u001b[0;32m    500\u001b[0m \u001b[39mreturn\u001b[39;00m p\n",
      "File \u001b[1;32mc:\\Users\\adangelo\\AppData\\Local\\Programs\\Python\\Python311\\Lib\\site-packages\\requests\\models.py:368\u001b[0m, in \u001b[0;36mPreparedRequest.prepare\u001b[1;34m(self, method, url, headers, files, data, params, auth, cookies, hooks, json)\u001b[0m\n\u001b[0;32m    365\u001b[0m \u001b[39m\u001b[39m\u001b[39m\"\"\"Prepares the entire request with the given parameters.\"\"\"\u001b[39;00m\n\u001b[0;32m    367\u001b[0m \u001b[39mself\u001b[39m\u001b[39m.\u001b[39mprepare_method(method)\n\u001b[1;32m--> 368\u001b[0m \u001b[39mself\u001b[39;49m\u001b[39m.\u001b[39;49mprepare_url(url, params)\n\u001b[0;32m    369\u001b[0m \u001b[39mself\u001b[39m\u001b[39m.\u001b[39mprepare_headers(headers)\n\u001b[0;32m    370\u001b[0m \u001b[39mself\u001b[39m\u001b[39m.\u001b[39mprepare_cookies(cookies)\n",
      "File \u001b[1;32mc:\\Users\\adangelo\\AppData\\Local\\Programs\\Python\\Python311\\Lib\\site-packages\\requests\\models.py:439\u001b[0m, in \u001b[0;36mPreparedRequest.prepare_url\u001b[1;34m(self, url, params)\u001b[0m\n\u001b[0;32m    436\u001b[0m     \u001b[39mraise\u001b[39;00m InvalidURL(\u001b[39m*\u001b[39me\u001b[39m.\u001b[39margs)\n\u001b[0;32m    438\u001b[0m \u001b[39mif\u001b[39;00m \u001b[39mnot\u001b[39;00m scheme:\n\u001b[1;32m--> 439\u001b[0m     \u001b[39mraise\u001b[39;00m MissingSchema(\n\u001b[0;32m    440\u001b[0m         \u001b[39mf\u001b[39m\u001b[39m\"\u001b[39m\u001b[39mInvalid URL \u001b[39m\u001b[39m{\u001b[39;00murl\u001b[39m!r}\u001b[39;00m\u001b[39m: No scheme supplied. \u001b[39m\u001b[39m\"\u001b[39m\n\u001b[0;32m    441\u001b[0m         \u001b[39mf\u001b[39m\u001b[39m\"\u001b[39m\u001b[39mPerhaps you meant https://\u001b[39m\u001b[39m{\u001b[39;00murl\u001b[39m}\u001b[39;00m\u001b[39m?\u001b[39m\u001b[39m\"\u001b[39m\n\u001b[0;32m    442\u001b[0m     )\n\u001b[0;32m    444\u001b[0m \u001b[39mif\u001b[39;00m \u001b[39mnot\u001b[39;00m host:\n\u001b[0;32m    445\u001b[0m     \u001b[39mraise\u001b[39;00m InvalidURL(\u001b[39mf\u001b[39m\u001b[39m\"\u001b[39m\u001b[39mInvalid URL \u001b[39m\u001b[39m{\u001b[39;00murl\u001b[39m!r}\u001b[39;00m\u001b[39m: No host supplied\u001b[39m\u001b[39m\"\u001b[39m)\n",
      "\u001b[1;31mMissingSchema\u001b[0m: Invalid URL 'bmtfnq22app01.wellsky.com/wst.home/docs/swagger.json': No scheme supplied. Perhaps you meant https://bmtfnq22app01.wellsky.com/wst.home/docs/swagger.json?"
     ]
    }
   ],
   "source": [
    "resp = requests.get(\"bmtfnq22app01.wellsky.com/wst.home/docs/swagger.json\")\n",
    "data = resp.json() # Check the JSON Response Content documentation below\n",
    "data.save('./temp/swagger.json')\n",
    "print(data)"
   ]
  }
 ],
 "metadata": {
  "kernelspec": {
   "display_name": "Python 3",
   "language": "python",
   "name": "python3"
  },
  "language_info": {
   "codemirror_mode": {
    "name": "ipython",
    "version": 3
   },
   "file_extension": ".py",
   "mimetype": "text/x-python",
   "name": "python",
   "nbconvert_exporter": "python",
   "pygments_lexer": "ipython3",
   "version": "3.11.2"
  },
  "orig_nbformat": 4
 },
 "nbformat": 4,
 "nbformat_minor": 2
}
